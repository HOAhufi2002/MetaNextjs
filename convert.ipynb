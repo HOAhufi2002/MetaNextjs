{
 "cells": [
  {
   "cell_type": "code",
   "execution_count": null,
   "metadata": {},
   "outputs": [],
   "source": [
    "from PIL import Image\n",
    "import base64\n",
    "import io\n",
    "import os\n",
    "import json\n",
    "\n",
    "def convert_images_to_base64(directory_path):\n",
    "    base64_list = []\n",
    "\n",
    "    for filename in os.listdir(directory_path):\n",
    "        if filename.lower().endswith(('.png', '.jpg', '.jpeg', '.gif', '.bmp')):\n",
    "            image_path = os.path.join(directory_path, filename)\n",
    "            \n",
    "            # Mở ảnh\n",
    "            with Image.open(image_path) as img:\n",
    "                # Chuyển ảnh thành chuỗi byte\n",
    "                buffered = io.BytesIO()\n",
    "                img.save(buffered, format=\"JPEG\")\n",
    "                img_bytes = buffered.getvalue()\n",
    "                \n",
    "                # Chuyển chuỗi byte thành chuỗi base64\n",
    "                img_base64 = base64.b64encode(img_bytes).decode('utf-8')\n",
    "                \n",
    "                base64_list.append({'filename': filename, 'base64': img_base64})\n",
    "\n",
    "    return base64_list\n",
    "\n",
    "# Đường dẫn đến thư mục chứa các ảnh\n",
    "directory_path = 'D:\\\\faceio\\\\deepface\\\\temp'\n",
    "base64_images = convert_images_to_base64(directory_path)\n",
    "\n",
    "# Lưu danh sách chuỗi base64 vào file JSON\n",
    "output_file = 'base64_images.json'\n",
    "with open(output_file, 'w') as f:\n",
    "    json.dump(base64_images, f)\n",
    "\n",
    "print(f\"Base64 strings have been saved to {output_file}\")\n"
   ]
  },
  {
   "cell_type": "code",
   "execution_count": 4,
   "metadata": {},
   "outputs": [
    {
     "name": "stdout",
     "output_type": "stream",
     "text": [
      "Base64 string has been saved to test.json\n"
     ]
    }
   ],
   "source": [
    "from PIL import Image\n",
    "import base64\n",
    "import io\n",
    "import os\n",
    "import json\n",
    "\n",
    "def convert_image_to_base64(image_path):\n",
    "    # Mở ảnh\n",
    "    with Image.open(image_path) as img:\n",
    "        # Chuyển ảnh thành chuỗi byte\n",
    "        buffered = io.BytesIO()\n",
    "        img.save(buffered, format=\"JPEG\")\n",
    "        img_bytes = buffered.getvalue()\n",
    "        \n",
    "        # Chuyển chuỗi byte thành chuỗi base64\n",
    "        img_base64 = base64.b64encode(img_bytes).decode('utf-8')\n",
    "        \n",
    "        return {'filename': os.path.basename(image_path), 'base64': img_base64}\n",
    "\n",
    "# Đường dẫn đến tệp ảnh\n",
    "image_path = 'D:\\\\faceio\\\\deepface\\\\temp\\\\kinggynstar\\\\kinggynstar@gmail.com_frame_0.jpg'\n",
    "base64_image = convert_image_to_base64(image_path)\n",
    "\n",
    "# Lưu chuỗi base64 vào file JSON\n",
    "output_file = 'test.json'\n",
    "with open(output_file, 'w') as f:\n",
    "    json.dump(base64_image, f)\n",
    "\n",
    "print(f\"Base64 string has been saved to {output_file}\")\n"
   ]
  },
  {
   "cell_type": "code",
   "execution_count": null,
   "metadata": {},
   "outputs": [],
   "source": [
    "import base64\n",
    "import json\n",
    "import os\n",
    "\n",
    "def decode_base64_to_images(json_file, output_directory):\n",
    "    # Đảm bảo thư mục đầu ra tồn tại\n",
    "    if not os.path.exists(output_directory):\n",
    "        os.makedirs(output_directory)\n",
    "    \n",
    "    # Đọc file JSON chứa danh sách base64\n",
    "    with open(json_file, 'r') as f:\n",
    "        base64_images = json.load(f)\n",
    "    \n",
    "    for item in base64_images:\n",
    "        filename = item['filename']\n",
    "        img_base64 = item['base64']\n",
    "        \n",
    "        # Giải mã chuỗi base64 thành chuỗi byte\n",
    "        img_bytes = base64.b64decode(img_base64)\n",
    "        \n",
    "        # Tạo đường dẫn file để lưu ảnh\n",
    "        output_path = os.path.join(output_directory, filename)\n",
    "        \n",
    "        # Ghi chuỗi byte thành file ảnh\n",
    "        with open(output_path, 'wb') as img_file:\n",
    "            img_file.write(img_bytes)\n",
    "        \n",
    "        print(f\"Image saved to {output_path}\")\n",
    "\n",
    "# Đường dẫn đến file JSON chứa base64\n",
    "json_file = 'base64_images.json'\n",
    "# Thư mục để lưu ảnh đã giải mã\n",
    "output_directory = 'D:\\\\faceio\\\\deepface\\\\temp\\\\test'\n",
    "\n",
    "decode_base64_to_images(json_file, output_directory)\n"
   ]
  }
 ],
 "metadata": {
  "kernelspec": {
   "display_name": "base",
   "language": "python",
   "name": "python3"
  },
  "language_info": {
   "codemirror_mode": {
    "name": "ipython",
    "version": 3
   },
   "file_extension": ".py",
   "mimetype": "text/x-python",
   "name": "python",
   "nbconvert_exporter": "python",
   "pygments_lexer": "ipython3",
   "version": "3.11.7"
  }
 },
 "nbformat": 4,
 "nbformat_minor": 2
}
